{
 "cells": [
  {
   "attachments": {},
   "cell_type": "markdown",
   "metadata": {},
   "source": [
    "## Libraries and Dependencies"
   ]
  },
  {
   "cell_type": "code",
   "execution_count": 1,
   "metadata": {},
   "outputs": [],
   "source": [
    "import sqlalchemy\n",
    "import pandas as pd\n",
    "from sqlalchemy.orm import sessionmaker\n",
    "import requests\n",
    "import json\n",
    "from datetime import datetime\n",
    "import datetime\n",
    "import sqlite3"
   ]
  },
  {
   "attachments": {},
   "cell_type": "markdown",
   "metadata": {},
   "source": [
    "## Code"
   ]
  },
  {
   "attachments": {},
   "cell_type": "markdown",
   "metadata": {},
   "source": [
    "Constants"
   ]
  },
  {
   "cell_type": "code",
   "execution_count": 12,
   "metadata": {},
   "outputs": [],
   "source": [
    "DATABASE_LOCATION = 'sqlite::///my_played_tracks.sqlite'\n",
    "USER_ID = 'Yorudan'\n",
    "TOKEN = 'BQBUCHV3M-WnLr9r1PbjUwI3ReY70wKK6UO2m7yW0bQaUkfL07wftejdAjy2I6xFqhVw6NLWohdrG7XgL5V2dSGbTB2Pqn7wKK469VnDGhC5lSKwYTs08btxhy_EYbqoCrT-bAp9zR12ZTP3PdKuE8F500QJU90G8D1wvT_8fPCyOpuLUsDqa1z7AgKCb2pqfgMwig'"
   ]
  },
  {
   "attachments": {},
   "cell_type": "markdown",
   "metadata": {},
   "source": [
    "Validation"
   ]
  },
  {
   "cell_type": "code",
   "execution_count": 23,
   "metadata": {},
   "outputs": [],
   "source": [
    "def check_if_valid_data(df: pd.DataFrame) -> bool:\n",
    "    # check if df is empty\n",
    "    if df.empty:\n",
    "        print('No songs downloaded. Finishing execution')\n",
    "        return False\n",
    "    \n",
    "    # primary key check\n",
    "    if pd.Series(df['played_at']).is_unique:\n",
    "        pass\n",
    "    else:\n",
    "        raise Exception('Primary key check violated')\n",
    "\n",
    "    # check for nulls\n",
    "    if df.isnull().values.any():\n",
    "        raise Exception('Null value found')\n",
    "\n",
    "    # check that all timestamps are yesterday's date\n",
    "    yesterday = datetime.datetime.now() - datetime.timedelta(days = 1)\n",
    "    yesterday = yesterday.replace(hour = 0, minute = 0, second = 0, microsecond = 0)\n",
    "\n",
    "    timestamps = df['timestamp'].tolist()\n",
    "    for timestamp in timestamps:\n",
    "        if datetime.datetime.strptime(timestamp, '%Y-%m-%d') <= yesterday:\n",
    "            raise Exception('At least one of the returned songs does not come from within 24hrs')\n",
    "\n",
    "    return True"
   ]
  },
  {
   "attachments": {},
   "cell_type": "markdown",
   "metadata": {},
   "source": [
    "Main"
   ]
  },
  {
   "cell_type": "code",
   "execution_count": 24,
   "metadata": {},
   "outputs": [
    {
     "data": {
      "text/html": [
       "<div>\n",
       "<style scoped>\n",
       "    .dataframe tbody tr th:only-of-type {\n",
       "        vertical-align: middle;\n",
       "    }\n",
       "\n",
       "    .dataframe tbody tr th {\n",
       "        vertical-align: top;\n",
       "    }\n",
       "\n",
       "    .dataframe thead th {\n",
       "        text-align: right;\n",
       "    }\n",
       "</style>\n",
       "<table border=\"1\" class=\"dataframe\">\n",
       "  <thead>\n",
       "    <tr style=\"text-align: right;\">\n",
       "      <th></th>\n",
       "      <th>song_name</th>\n",
       "      <th>artist_name</th>\n",
       "      <th>played_at</th>\n",
       "      <th>timestamp</th>\n",
       "    </tr>\n",
       "  </thead>\n",
       "  <tbody>\n",
       "    <tr>\n",
       "      <th>0</th>\n",
       "      <td>Rise</td>\n",
       "      <td>Jonas Blue</td>\n",
       "      <td>2023-02-10T10:43:20.379Z</td>\n",
       "      <td>2023-02-10</td>\n",
       "    </tr>\n",
       "    <tr>\n",
       "      <th>1</th>\n",
       "      <td>センチメートル</td>\n",
       "      <td>the peggies</td>\n",
       "      <td>2023-02-10T10:39:24.418Z</td>\n",
       "      <td>2023-02-10</td>\n",
       "    </tr>\n",
       "    <tr>\n",
       "      <th>2</th>\n",
       "      <td>カタオモイ</td>\n",
       "      <td>Aimer</td>\n",
       "      <td>2023-02-10T07:12:27.542Z</td>\n",
       "      <td>2023-02-10</td>\n",
       "    </tr>\n",
       "    <tr>\n",
       "      <th>3</th>\n",
       "      <td>残響散歌</td>\n",
       "      <td>Aimer</td>\n",
       "      <td>2023-02-10T07:09:00.035Z</td>\n",
       "      <td>2023-02-10</td>\n",
       "    </tr>\n",
       "    <tr>\n",
       "      <th>4</th>\n",
       "      <td>crossing field</td>\n",
       "      <td>LiSA</td>\n",
       "      <td>2023-02-10T07:05:54.927Z</td>\n",
       "      <td>2023-02-10</td>\n",
       "    </tr>\n",
       "    <tr>\n",
       "      <th>5</th>\n",
       "      <td>紅蓮華</td>\n",
       "      <td>LiSA</td>\n",
       "      <td>2023-02-10T07:01:45.805Z</td>\n",
       "      <td>2023-02-10</td>\n",
       "    </tr>\n",
       "    <tr>\n",
       "      <th>6</th>\n",
       "      <td>Always Be There</td>\n",
       "      <td>Jonas Blue</td>\n",
       "      <td>2023-02-10T06:57:25.694Z</td>\n",
       "      <td>2023-02-10</td>\n",
       "    </tr>\n",
       "  </tbody>\n",
       "</table>\n",
       "</div>"
      ],
      "text/plain": [
       "         song_name  artist_name                 played_at   timestamp\n",
       "0             Rise   Jonas Blue  2023-02-10T10:43:20.379Z  2023-02-10\n",
       "1          センチメートル  the peggies  2023-02-10T10:39:24.418Z  2023-02-10\n",
       "2            カタオモイ        Aimer  2023-02-10T07:12:27.542Z  2023-02-10\n",
       "3             残響散歌        Aimer  2023-02-10T07:09:00.035Z  2023-02-10\n",
       "4   crossing field         LiSA  2023-02-10T07:05:54.927Z  2023-02-10\n",
       "5              紅蓮華         LiSA  2023-02-10T07:01:45.805Z  2023-02-10\n",
       "6  Always Be There   Jonas Blue  2023-02-10T06:57:25.694Z  2023-02-10"
      ]
     },
     "metadata": {},
     "output_type": "display_data"
    },
    {
     "name": "stdout",
     "output_type": "stream",
     "text": [
      "Data valid, proceed to load stage\n"
     ]
    }
   ],
   "source": [
    "if __name__ == '__main__':\n",
    "    headers = {\n",
    "        'Accept': 'application/json',\n",
    "        'Content-Type': 'application/json',\n",
    "        'Authorization': 'Bearer {token}'.format(token = TOKEN)\n",
    "    }\n",
    "\n",
    "    # convert time to unix timestamp in ms\n",
    "    today = datetime.datetime.now()\n",
    "    yesterday = today - datetime.timedelta(days = 1)\n",
    "    yesterday_unix_timestamp = int(yesterday.timestamp()) * 1000\n",
    "\n",
    "    # download all songs i've listened in the last 24hrs\n",
    "    r = requests.get('https://api.spotify.com/v1/me/player/recently-played?after={time}'.format(time=yesterday_unix_timestamp), headers = headers)\n",
    "    data = r.json()\n",
    "    \n",
    "    song_names = []\n",
    "    artist_names = []\n",
    "    played_at_list = []\n",
    "    timestamps = []\n",
    "\n",
    "    # extract only the relevant data from json obj\n",
    "    for song in data['items']:\n",
    "        song_names.append(song['track']['name'])\n",
    "        artist_names.append(song['track']['album']['artists'][0]['name'])\n",
    "        played_at_list.append(song['played_at'])\n",
    "        timestamps.append(song['played_at'][0:10])\n",
    "\n",
    "    # prepare a dictionary in order to turn it into a pd df\n",
    "    song_dict = {\n",
    "        'song_name': song_names,\n",
    "        'artist_name': artist_names,\n",
    "        'played_at': played_at_list,\n",
    "        'timestamp': timestamps\n",
    "    }\n",
    "\n",
    "    song_df = pd.DataFrame(song_dict, columns = ['song_name', 'artist_name', 'played_at', 'timestamp'])\n",
    "    display(song_df)\n",
    "\n",
    "    # validate\n",
    "    if check_if_valid_data(song_df):\n",
    "        print('Data valid, proceed to load stage')"
   ]
  }
 ],
 "metadata": {
  "kernelspec": {
   "display_name": "Python 3",
   "language": "python",
   "name": "python3"
  },
  "language_info": {
   "codemirror_mode": {
    "name": "ipython",
    "version": 3
   },
   "file_extension": ".py",
   "mimetype": "text/x-python",
   "name": "python",
   "nbconvert_exporter": "python",
   "pygments_lexer": "ipython3",
   "version": "3.10.2"
  },
  "orig_nbformat": 4,
  "vscode": {
   "interpreter": {
    "hash": "3d0ff25a2657893c6d6c686764c41965e1e5f9d7a941bfe709fc64e66cf62086"
   }
  }
 },
 "nbformat": 4,
 "nbformat_minor": 2
}
