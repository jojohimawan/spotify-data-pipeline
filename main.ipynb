{
 "cells": [
  {
   "attachments": {},
   "cell_type": "markdown",
   "metadata": {},
   "source": [
    "## Libraries and Dependencies"
   ]
  },
  {
   "cell_type": "code",
   "execution_count": 1,
   "metadata": {},
   "outputs": [],
   "source": [
    "import sqlalchemy\n",
    "import pandas as pd\n",
    "from sqlalchemy.orm import sessionmaker\n",
    "import requests\n",
    "import json\n",
    "from datetime import datetime\n",
    "import datetime\n",
    "import sqlite3"
   ]
  },
  {
   "attachments": {},
   "cell_type": "markdown",
   "metadata": {},
   "source": [
    "## Code"
   ]
  },
  {
   "attachments": {},
   "cell_type": "markdown",
   "metadata": {},
   "source": [
    "Constants"
   ]
  },
  {
   "cell_type": "code",
   "execution_count": null,
   "metadata": {},
   "outputs": [],
   "source": [
    "DATABASE_LOCATION = 'sqlite::///my_played_tracks.sqlite'\n",
    "USER_ID = 'Yorudan'\n",
    "TOKEN = 'BQD2O9PIp--do7loSI1b33ZchaiwJt2CW4wxvTCEqHziyhnPokNb34NoAu_1rNvJRtSpg6_sY_00tZcbzCxsBOqsAJ252kxEwawuxggWgM2bz5bqjPApsTnQ3_46k7cmLJ1-KzufzsCrV_jOMhWfKYYsQE6yQE3mKfodSJbAJYB6cDRzauH3rFShHpvhFCCseKB0dw'"
   ]
  },
  {
   "attachments": {},
   "cell_type": "markdown",
   "metadata": {},
   "source": [
    "Validation"
   ]
  },
  {
   "cell_type": "code",
   "execution_count": null,
   "metadata": {},
   "outputs": [],
   "source": [
    "def check_if_valid_data(df: pd.DataFrame) -> bool:\n",
    "    # check if df is empty\n",
    "    if df.empty:\n",
    "        print('No songs downloaded. Finishing execution')\n",
    "        return False\n",
    "    \n",
    "    # primary key check\n",
    "    if pd.Series(df['played_at']).is_unique:\n",
    "        pass\n",
    "    else:\n",
    "        raise Exception('Primary key check violated')\n",
    "\n",
    "    # check for nulls\n",
    "    if df.isnull().values.any():\n",
    "        raise Exception('Null value found')\n",
    "\n",
    "    # check that all timestamps are yesterday's date\n",
    "    # yesterday = datetime.datetime.now() - datetime.timedelta(days = 1)\n",
    "    # yesterday = yesterday.replace(hour = 0, minute = 0, second = 0, microsecond = 0)\n",
    "\n",
    "    # timestamps = df['timestamp'].tolist()\n",
    "    # for timestamp in timestamps:\n",
    "    #     if datetime.datetime.strptime(timestamp, '%Y-%m-%d') >= yesterday:\n",
    "    #         raise Exception('At least one of the returned songs does not come from within 24hrs')\n",
    "\n",
    "    return True"
   ]
  },
  {
   "attachments": {},
   "cell_type": "markdown",
   "metadata": {},
   "source": [
    "Main"
   ]
  },
  {
   "cell_type": "code",
   "execution_count": null,
   "metadata": {},
   "outputs": [
    {
     "data": {
      "text/html": [
       "<div>\n",
       "<style scoped>\n",
       "    .dataframe tbody tr th:only-of-type {\n",
       "        vertical-align: middle;\n",
       "    }\n",
       "\n",
       "    .dataframe tbody tr th {\n",
       "        vertical-align: top;\n",
       "    }\n",
       "\n",
       "    .dataframe thead th {\n",
       "        text-align: right;\n",
       "    }\n",
       "</style>\n",
       "<table border=\"1\" class=\"dataframe\">\n",
       "  <thead>\n",
       "    <tr style=\"text-align: right;\">\n",
       "      <th></th>\n",
       "      <th>song_name</th>\n",
       "      <th>artist_name</th>\n",
       "      <th>played_at</th>\n",
       "      <th>timestamp</th>\n",
       "    </tr>\n",
       "  </thead>\n",
       "  <tbody>\n",
       "    <tr>\n",
       "      <th>0</th>\n",
       "      <td>Where The Stars Fall (Up All Night)</td>\n",
       "      <td>Cravemob</td>\n",
       "      <td>2023-02-11T06:57:08.744Z</td>\n",
       "      <td>2023-02-11</td>\n",
       "    </tr>\n",
       "    <tr>\n",
       "      <th>1</th>\n",
       "      <td>ハローグッバイ</td>\n",
       "      <td>Scenarioart</td>\n",
       "      <td>2023-02-11T06:55:04.403Z</td>\n",
       "      <td>2023-02-11</td>\n",
       "    </tr>\n",
       "    <tr>\n",
       "      <th>2</th>\n",
       "      <td>Mama</td>\n",
       "      <td>Jonas Blue</td>\n",
       "      <td>2023-02-11T06:50:37.212Z</td>\n",
       "      <td>2023-02-11</td>\n",
       "    </tr>\n",
       "    <tr>\n",
       "      <th>3</th>\n",
       "      <td>Rise</td>\n",
       "      <td>Jonas Blue</td>\n",
       "      <td>2023-02-10T10:43:20.379Z</td>\n",
       "      <td>2023-02-10</td>\n",
       "    </tr>\n",
       "    <tr>\n",
       "      <th>4</th>\n",
       "      <td>センチメートル</td>\n",
       "      <td>the peggies</td>\n",
       "      <td>2023-02-10T10:39:24.418Z</td>\n",
       "      <td>2023-02-10</td>\n",
       "    </tr>\n",
       "    <tr>\n",
       "      <th>5</th>\n",
       "      <td>カタオモイ</td>\n",
       "      <td>Aimer</td>\n",
       "      <td>2023-02-10T07:12:27.542Z</td>\n",
       "      <td>2023-02-10</td>\n",
       "    </tr>\n",
       "    <tr>\n",
       "      <th>6</th>\n",
       "      <td>残響散歌</td>\n",
       "      <td>Aimer</td>\n",
       "      <td>2023-02-10T07:09:00.035Z</td>\n",
       "      <td>2023-02-10</td>\n",
       "    </tr>\n",
       "    <tr>\n",
       "      <th>7</th>\n",
       "      <td>crossing field</td>\n",
       "      <td>LiSA</td>\n",
       "      <td>2023-02-10T07:05:54.927Z</td>\n",
       "      <td>2023-02-10</td>\n",
       "    </tr>\n",
       "  </tbody>\n",
       "</table>\n",
       "</div>"
      ],
      "text/plain": [
       "                             song_name  artist_name                 played_at  \\\n",
       "0  Where The Stars Fall (Up All Night)     Cravemob  2023-02-11T06:57:08.744Z   \n",
       "1                              ハローグッバイ  Scenarioart  2023-02-11T06:55:04.403Z   \n",
       "2                                 Mama   Jonas Blue  2023-02-11T06:50:37.212Z   \n",
       "3                                 Rise   Jonas Blue  2023-02-10T10:43:20.379Z   \n",
       "4                              センチメートル  the peggies  2023-02-10T10:39:24.418Z   \n",
       "5                                カタオモイ        Aimer  2023-02-10T07:12:27.542Z   \n",
       "6                                 残響散歌        Aimer  2023-02-10T07:09:00.035Z   \n",
       "7                       crossing field         LiSA  2023-02-10T07:05:54.927Z   \n",
       "\n",
       "    timestamp  \n",
       "0  2023-02-11  \n",
       "1  2023-02-11  \n",
       "2  2023-02-11  \n",
       "3  2023-02-10  \n",
       "4  2023-02-10  \n",
       "5  2023-02-10  \n",
       "6  2023-02-10  \n",
       "7  2023-02-10  "
      ]
     },
     "metadata": {},
     "output_type": "display_data"
    },
    {
     "ename": "Exception",
     "evalue": "At least one of the returned songs does not come from within 24hrs",
     "output_type": "error",
     "traceback": [
      "\u001b[1;31m---------------------------------------------------------------------------\u001b[0m",
      "\u001b[1;31mException\u001b[0m                                 Traceback (most recent call last)",
      "\u001b[1;32md:\\Coding\\spotify-data-pipeline\\main.ipynb Cell 9\u001b[0m in \u001b[0;36m<cell line: 1>\u001b[1;34m()\u001b[0m\n\u001b[0;32m     <a href='vscode-notebook-cell:/d%3A/Coding/spotify-data-pipeline/main.ipynb#X11sZmlsZQ%3D%3D?line=37'>38</a>\u001b[0m display(song_df)\n\u001b[0;32m     <a href='vscode-notebook-cell:/d%3A/Coding/spotify-data-pipeline/main.ipynb#X11sZmlsZQ%3D%3D?line=39'>40</a>\u001b[0m \u001b[39m# validate\u001b[39;00m\n\u001b[1;32m---> <a href='vscode-notebook-cell:/d%3A/Coding/spotify-data-pipeline/main.ipynb#X11sZmlsZQ%3D%3D?line=40'>41</a>\u001b[0m \u001b[39mif\u001b[39;00m check_if_valid_data(song_df):\n\u001b[0;32m     <a href='vscode-notebook-cell:/d%3A/Coding/spotify-data-pipeline/main.ipynb#X11sZmlsZQ%3D%3D?line=41'>42</a>\u001b[0m     \u001b[39mprint\u001b[39m(\u001b[39m'\u001b[39m\u001b[39mData valid, proceed to load stage\u001b[39m\u001b[39m'\u001b[39m)\n",
      "\u001b[1;32md:\\Coding\\spotify-data-pipeline\\main.ipynb Cell 9\u001b[0m in \u001b[0;36mcheck_if_valid_data\u001b[1;34m(df)\u001b[0m\n\u001b[0;32m     <a href='vscode-notebook-cell:/d%3A/Coding/spotify-data-pipeline/main.ipynb#X11sZmlsZQ%3D%3D?line=21'>22</a>\u001b[0m \u001b[39mfor\u001b[39;00m timestamp \u001b[39min\u001b[39;00m timestamps:\n\u001b[0;32m     <a href='vscode-notebook-cell:/d%3A/Coding/spotify-data-pipeline/main.ipynb#X11sZmlsZQ%3D%3D?line=22'>23</a>\u001b[0m     \u001b[39mif\u001b[39;00m datetime\u001b[39m.\u001b[39mdatetime\u001b[39m.\u001b[39mstrptime(timestamp, \u001b[39m'\u001b[39m\u001b[39m%\u001b[39m\u001b[39mY-\u001b[39m\u001b[39m%\u001b[39m\u001b[39mm-\u001b[39m\u001b[39m%d\u001b[39;00m\u001b[39m'\u001b[39m) \u001b[39m>\u001b[39m\u001b[39m=\u001b[39m yesterday:\n\u001b[1;32m---> <a href='vscode-notebook-cell:/d%3A/Coding/spotify-data-pipeline/main.ipynb#X11sZmlsZQ%3D%3D?line=23'>24</a>\u001b[0m         \u001b[39mraise\u001b[39;00m \u001b[39mException\u001b[39;00m(\u001b[39m'\u001b[39m\u001b[39mAt least one of the returned songs does not come from within 24hrs\u001b[39m\u001b[39m'\u001b[39m)\n\u001b[0;32m     <a href='vscode-notebook-cell:/d%3A/Coding/spotify-data-pipeline/main.ipynb#X11sZmlsZQ%3D%3D?line=25'>26</a>\u001b[0m \u001b[39mreturn\u001b[39;00m \u001b[39mTrue\u001b[39;00m\n",
      "\u001b[1;31mException\u001b[0m: At least one of the returned songs does not come from within 24hrs"
     ]
    }
   ],
   "source": [
    "if __name__ == '__main__':\n",
    "    headers = {\n",
    "        'Accept': 'application/json',\n",
    "        'Content-Type': 'application/json',\n",
    "        'Authorization': 'Bearer {token}'.format(token = TOKEN)\n",
    "    }\n",
    "\n",
    "    # convert time to unix timestamp in ms\n",
    "    today = datetime.datetime.now()\n",
    "    yesterday = today - datetime.timedelta(days = 1)\n",
    "    yesterday_unix_timestamp = int(yesterday.timestamp()) * 1000\n",
    "\n",
    "    # download all songs i've listened in the last 24hrs\n",
    "    r = requests.get('https://api.spotify.com/v1/me/player/recently-played?after={time}'.format(time=yesterday_unix_timestamp), headers = headers)\n",
    "    data = r.json()\n",
    "    \n",
    "    song_names = []\n",
    "    artist_names = []\n",
    "    played_at_list = []\n",
    "    timestamps = []\n",
    "\n",
    "    # extract only the relevant data from json obj\n",
    "    for song in data['items']:\n",
    "        song_names.append(song['track']['name'])\n",
    "        artist_names.append(song['track']['album']['artists'][0]['name'])\n",
    "        played_at_list.append(song['played_at'])\n",
    "        timestamps.append(song['played_at'][0:10])\n",
    "\n",
    "    # prepare a dictionary in order to turn it into a pd df\n",
    "    song_dict = {\n",
    "        'song_name': song_names,\n",
    "        'artist_name': artist_names,\n",
    "        'played_at': played_at_list,\n",
    "        'timestamp': timestamps\n",
    "    }\n",
    "\n",
    "    song_df = pd.DataFrame(song_dict, columns = ['song_name', 'artist_name', 'played_at', 'timestamp'])\n",
    "    display(song_df)\n",
    "\n",
    "    # validate\n",
    "    if check_if_valid_data(song_df):\n",
    "        print('Data valid, proceed to load stage')"
   ]
  }
 ],
 "metadata": {
  "kernelspec": {
   "display_name": "Python 3",
   "language": "python",
   "name": "python3"
  },
  "language_info": {
   "codemirror_mode": {
    "name": "ipython",
    "version": 3
   },
   "file_extension": ".py",
   "mimetype": "text/x-python",
   "name": "python",
   "nbconvert_exporter": "python",
   "pygments_lexer": "ipython3",
   "version": "3.11.2"
  },
  "orig_nbformat": 4,
  "vscode": {
   "interpreter": {
    "hash": "15941083411a2ffdf6911b48c30440243208630c80597d37ee972ed5e565cb0f"
   }
  }
 },
 "nbformat": 4,
 "nbformat_minor": 2
}
