{
 "cells": [
  {
   "attachments": {},
   "cell_type": "markdown",
   "metadata": {},
   "source": [
    "## Libraries and Dependencies"
   ]
  },
  {
   "cell_type": "code",
   "execution_count": 1,
   "metadata": {},
   "outputs": [],
   "source": [
    "import sqlalchemy\n",
    "import pandas as pd\n",
    "from sqlalchemy.orm import sessionmaker\n",
    "import requests\n",
    "import json\n",
    "from datetime import datetime\n",
    "import datetime\n",
    "import sqlite3"
   ]
  },
  {
   "attachments": {},
   "cell_type": "markdown",
   "metadata": {},
   "source": [
    "## Code"
   ]
  },
  {
   "attachments": {},
   "cell_type": "markdown",
   "metadata": {},
   "source": [
    "Constants"
   ]
  },
  {
   "cell_type": "code",
   "execution_count": 2,
   "metadata": {},
   "outputs": [],
   "source": [
    "DATABASE_LOCATION = 'sqlite::///my_played_tracks.sqlite'\n",
    "USER_ID = 'Yorudan'\n",
    "TOKEN = 'BQBIwUY1PVx2rf0nEa5XzfGAH6TO7hB_779-DXfLWzrS1TlCoHMV2FLwZIsdGe8KqHFbFCb4kQQENPZNnh3PEebkTUfmiprcIh3I0JbA28V6BTymyc2gMGt2tD3_2PLLqBPVvbSc2S9TJ9uUMhiYGV5W2WFTPJQOVAqFCKRhUl0YXouRzHbWAmWODUDJg5cTgAdSSQ'"
   ]
  },
  {
   "attachments": {},
   "cell_type": "markdown",
   "metadata": {},
   "source": [
    "Main"
   ]
  },
  {
   "cell_type": "code",
   "execution_count": 7,
   "metadata": {},
   "outputs": [
    {
     "name": "stdout",
     "output_type": "stream",
     "text": [
      "         song_name artist_name                 played_at  \\\n",
      "0            カタオモイ       Aimer  2023-02-10T07:12:27.542Z   \n",
      "1             残響散歌       Aimer  2023-02-10T07:09:00.035Z   \n",
      "2   crossing field        LiSA  2023-02-10T07:05:54.927Z   \n",
      "3              紅蓮華        LiSA  2023-02-10T07:01:45.805Z   \n",
      "4  Always Be There  Jonas Blue  2023-02-10T06:57:25.694Z   \n",
      "\n",
      "                  timestamp  \n",
      "0  2023-02-10T07:12:27.542Z  \n",
      "1  2023-02-10T07:09:00.035Z  \n",
      "2  2023-02-10T07:05:54.927Z  \n",
      "3  2023-02-10T07:01:45.805Z  \n",
      "4  2023-02-10T06:57:25.694Z  \n"
     ]
    }
   ],
   "source": [
    "if __name__ == '__main__':\n",
    "    headers = {\n",
    "        'Accept': 'application/json',\n",
    "        'Content-Type': 'application/json',\n",
    "        'Authorization': 'Bearer {token}'.format(token = TOKEN)\n",
    "    }\n",
    "\n",
    "    # convert time to unix timestamp in ms\n",
    "    today = datetime.datetime.now()\n",
    "    yesterday = today - datetime.timedelta(days = 1)\n",
    "    yesterday_unix_timestamp = int(yesterday.timestamp()) * 1000\n",
    "\n",
    "    # download all songs i've listened in the last 24hrs\n",
    "    r = requests.get('https://api.spotify.com/v1/me/player/recently-played?after={time}'.format(time=yesterday_unix_timestamp), headers = headers)\n",
    "    data = r.json()\n",
    "    \n",
    "    song_names = []\n",
    "    artist_names = []\n",
    "    played_at_list = []\n",
    "    timestamps = []\n",
    "\n",
    "    # extract only the relevant data from json obj\n",
    "    for song in data['items']:\n",
    "        song_names.append(song['track']['name'])\n",
    "        artist_names.append(song['track']['album']['artists'][0]['name'])\n",
    "        played_at_list.append(song['played_at'])\n",
    "        timestamps.append(song['played_at'][0:10])\n",
    "\n",
    "    # prepare a dictionary in order to turn it into a pd df\n",
    "    song_dict = {\n",
    "        'song_name': song_names,\n",
    "        'artist_name': artist_names,\n",
    "        'played_at': played_at_list,\n",
    "        'timestamp': timestamps\n",
    "    }\n",
    "\n",
    "    song_df = pd.DataFrame(song_dict, columns = ['song_name', 'artist_name', 'played_at', 'timestamp'])\n",
    "    print(song_df)"
   ]
  }
 ],
 "metadata": {
  "kernelspec": {
   "display_name": "Python 3",
   "language": "python",
   "name": "python3"
  },
  "language_info": {
   "codemirror_mode": {
    "name": "ipython",
    "version": 3
   },
   "file_extension": ".py",
   "mimetype": "text/x-python",
   "name": "python",
   "nbconvert_exporter": "python",
   "pygments_lexer": "ipython3",
   "version": "3.10.2"
  },
  "orig_nbformat": 4,
  "vscode": {
   "interpreter": {
    "hash": "3d0ff25a2657893c6d6c686764c41965e1e5f9d7a941bfe709fc64e66cf62086"
   }
  }
 },
 "nbformat": 4,
 "nbformat_minor": 2
}
